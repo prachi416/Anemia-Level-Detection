{
 "cells": [
  {
   "cell_type": "code",
   "execution_count": 1,
   "metadata": {},
   "outputs": [],
   "source": [
    "import pandas as pd\n",
    "import numpy as np\n",
    "from sklearn.model_selection import RandomizedSearchCV\n",
    "from scipy.stats import loguniform\n",
    "from scipy.stats import randint as sp_randint\n",
    "from scipy.stats import uniform\n",
    "from sklearn.model_selection import cross_val_score\n",
    "from sklearn.neighbors import KNeighborsClassifier\n",
    "from sklearn.metrics import classification_report, accuracy_score\n",
    "from sklearn.naive_bayes import GaussianNB\n",
    "from sklearn.model_selection import GridSearchCV\n",
    "from sklearn.linear_model import LogisticRegression\n",
    "from sklearn.svm import SVC\n",
    "from sklearn.tree import DecisionTreeClassifier\n",
    "from sklearn.ensemble import GradientBoostingClassifier\n",
    "from sklearn.model_selection import GridSearchCV\n",
    "from sklearn.model_selection import train_test_split\n",
    "from sklearn.preprocessing import StandardScaler\n",
    "import matplotlib.pyplot as plt\n",
    "\n",
    "def warn(*args, **kwargs):\n",
    "    pass\n",
    "import warnings\n",
    "warnings.warn = warn\n",
    "# warnings.filterwarnings(\"ignore\", category=DeprecationWarning)\n",
    "warnings.filterwarnings(\"ignore\")\n"
   ]
  },
  {
   "cell_type": "markdown",
   "metadata": {},
   "source": [
    "### Load the dataset"
   ]
  },
  {
   "cell_type": "code",
   "execution_count": 2,
   "metadata": {},
   "outputs": [],
   "source": [
    "df = pd.read_csv(\"../data/children_anemia_cleaned.csv\")"
   ]
  },
  {
   "cell_type": "markdown",
   "metadata": {},
   "source": [
    "### Preparing the data"
   ]
  },
  {
   "cell_type": "code",
   "execution_count": 3,
   "metadata": {},
   "outputs": [],
   "source": [
    "\n",
    "\n",
    "X = df.drop('anemia_level', axis=1)\n",
    "y = df['anemia_level']\n",
    "\n",
    "X = X.fillna(X.mean())\n",
    "\n",
    "X_train, X_test, y_train, y_test = train_test_split(X, y, test_size=0.2, random_state=73939133)\n",
    "\n",
    "scaler = StandardScaler()\n",
    "X_train_scaled = scaler.fit_transform(X_train)\n",
    "X_test_scaled = scaler.transform(X_test)"
   ]
  },
  {
   "cell_type": "markdown",
   "metadata": {},
   "source": [
    "### Algorithm 1 : KNN"
   ]
  },
  {
   "cell_type": "code",
   "execution_count": 4,
   "metadata": {},
   "outputs": [
    {
     "name": "stdout",
     "output_type": "stream",
     "text": [
      "KNN Accuracy on Test Set: 0.6113022113022113\n",
      "\n",
      "KNN Classification Report:\n",
      "               precision    recall  f1-score   support\n",
      "\n",
      "           0       0.36      0.18      0.24        22\n",
      "           1       0.67      0.80      0.73       857\n",
      "           2       0.41      0.42      0.41       535\n",
      "           3       0.71      0.55      0.62       591\n",
      "           4       0.75      0.10      0.18        30\n",
      "\n",
      "    accuracy                           0.61      2035\n",
      "   macro avg       0.58      0.41      0.44      2035\n",
      "weighted avg       0.61      0.61      0.60      2035\n",
      "\n"
     ]
    }
   ],
   "source": [
    "knn_model = KNeighborsClassifier(n_neighbors=5)\n",
    "knn_model.fit(X_train_scaled, y_train)\n",
    "\n",
    "y_pred = knn_model.predict(X_test_scaled)\n",
    "\n",
    "accuracy_knn = accuracy_score(y_test, y_pred)\n",
    "knn_rep = classification_report(y_test, y_pred)\n",
    "\n",
    "print(f\"KNN Accuracy on Test Set: {accuracy_knn}\")\n",
    "print(f\"\\nKNN Classification Report:\\n {knn_rep}\")"
   ]
  },
  {
   "cell_type": "markdown",
   "metadata": {},
   "source": [
    "#### Train/Tune model"
   ]
  },
  {
   "cell_type": "code",
   "execution_count": 5,
   "metadata": {},
   "outputs": [
    {
     "name": "stdout",
     "output_type": "stream",
     "text": [
      "Best k value is : 40\n",
      "Error rate with best k is : 0.39687807276302856\n"
     ]
    }
   ],
   "source": [
    "# Defining a range of K values to explore\n",
    "k_values = range(2, 41)\n",
    "\n",
    "# Store all the average cross-validation scores for each value of K\n",
    "err_rates = []\n",
    "\n",
    "for k in k_values:\n",
    "    knn = KNeighborsClassifier(n_neighbors=k)\n",
    "    \n",
    "    # Perform 6-fold cross-validation and store the mean accuracy\n",
    "    # scores = cross_val_score(knn, X_train_scaled, y_train, cv=6, scoring='roc_auc_ovr')\n",
    "    scores = cross_val_score(knn, X_train_scaled, y_train, cv=4)\n",
    "    # scores = cross_val_score(knn, X_train_scaled, y_train, cv=5, scoring='accuracy')\n",
    "    # err_rates.append(scores.mean())\n",
    "    err_rates.append(1 - scores.mean())\n",
    "\n",
    "# Find the K value that maximizes the cross-validation score or minimizes the error rate\n",
    "# best_k = k_values[np.argmax(err_rates)]\n",
    "best_k = k_values[np.argmin(err_rates)]\n",
    "# best_score = max(err_rates)\n",
    "best_score = min(err_rates)\n",
    "\n",
    "print(f\"Best k value is : {best_k}\")\n",
    "# print(f\"Accuracy with best k is : {best_score}\")\n",
    "print(f\"Error rate with best k is : {best_score}\")"
   ]
  },
  {
   "cell_type": "code",
   "execution_count": 6,
   "metadata": {},
   "outputs": [],
   "source": [
    "# Visualize with elbow method\n",
    "# print(err_rates)\n",
    "# plt.figure(figsize=(16, 10))\n",
    "# plt.xticks(k_values)\n",
    "# plt.plot(k_values, err_rates)"
   ]
  },
  {
   "cell_type": "code",
   "execution_count": 7,
   "metadata": {},
   "outputs": [
    {
     "name": "stdout",
     "output_type": "stream",
     "text": [
      "Optimal K=40 with least error rate : 0.39687807276302856\n",
      "\n",
      "KNN Accuracy on test dataset : 0.6186732186732187\n",
      "\n",
      "KNN Classification Report:\n",
      "               precision    recall  f1-score   support\n",
      "\n",
      "           0       0.00      0.00      0.00        22\n",
      "           1       0.65      0.88      0.75       857\n",
      "           2       0.41      0.28      0.34       535\n",
      "           3       0.70      0.60      0.65       591\n",
      "           4       0.00      0.00      0.00        30\n",
      "\n",
      "    accuracy                           0.62      2035\n",
      "   macro avg       0.35      0.35      0.35      2035\n",
      "weighted avg       0.58      0.62      0.59      2035\n",
      "\n"
     ]
    }
   ],
   "source": [
    "# Retrain the KNN model with the identified optimal K\n",
    "optim_knn = KNeighborsClassifier(n_neighbors=best_k)\n",
    "optim_knn.fit(X_train_scaled, y_train)\n",
    "ypred_optim_knn = optim_knn.predict(X_test_scaled)\n",
    "\n",
    "knn_best_acc = accuracy_score(y_test, ypred_optim_knn)\n",
    "knn_best_rprt = classification_report(y_test, ypred_optim_knn, zero_division=0)\n",
    "\n",
    "# print(f\"Optimal K: {best_k} with Cross-Validation Score: {best_score}\\n\")\n",
    "print(f\"Optimal K={best_k} with least error rate : {best_score}\\n\")\n",
    "print(f\"KNN Accuracy on test dataset : {knn_best_acc}\")\n",
    "print(f\"\\nKNN Classification Report:\\n {knn_best_rprt}\")"
   ]
  },
  {
   "cell_type": "markdown",
   "metadata": {},
   "source": [
    "### Algorithm 2: Naive Bayes"
   ]
  },
  {
   "cell_type": "code",
   "execution_count": 8,
   "metadata": {},
   "outputs": [
    {
     "name": "stdout",
     "output_type": "stream",
     "text": [
      "Naive Bayes (default) Model Accuracy on Test Set: 0.30073710073710075\n",
      "\n",
      "Naive Bayes Model Classification Report:\n",
      "               precision    recall  f1-score   support\n",
      "\n",
      "           0       1.00      1.00      1.00        22\n",
      "           1       0.98      0.18      0.30       857\n",
      "           2       0.40      0.76      0.52       535\n",
      "           3       0.28      0.01      0.02       591\n",
      "           4       0.04      0.97      0.07        30\n",
      "\n",
      "    accuracy                           0.30      2035\n",
      "   macro avg       0.54      0.58      0.38      2035\n",
      "weighted avg       0.61      0.30      0.28      2035\n",
      "\n"
     ]
    }
   ],
   "source": [
    "gnb_model = GaussianNB()\n",
    "gnb_model.fit(X_train_scaled, y_train)\n",
    "ypred_gnb = gnb_model.predict(X_test_scaled)\n",
    "\n",
    "gnb_acc = accuracy_score(y_test, ypred_gnb)\n",
    "report_gnb = classification_report(y_test, ypred_gnb)\n",
    "\n",
    "print(f\"Naive Bayes (default) Model Accuracy on Test Set: {gnb_acc}\")\n",
    "print(f\"\\nNaive Bayes Model Classification Report:\\n {report_gnb}\")"
   ]
  },
  {
   "cell_type": "markdown",
   "metadata": {},
   "source": [
    "#### Train/Tune model"
   ]
  },
  {
   "cell_type": "code",
   "execution_count": 9,
   "metadata": {},
   "outputs": [
    {
     "data": {
      "text/plain": [
       "({'var_smoothing': 0.005923457145875806}, 0.6269669233406172)"
      ]
     },
     "execution_count": 9,
     "metadata": {},
     "output_type": "execute_result"
    }
   ],
   "source": [
    "param_grid = {\n",
    "    'var_smoothing': np.logspace(0,-9, num=300)\n",
    "}\n",
    "\n",
    "gnb = GaussianNB()\n",
    "grid_search = GridSearchCV(estimator=gnb, param_grid=param_grid, cv=5, scoring='accuracy')\n",
    "grid_search.fit(X_train_scaled, y_train)\n",
    "\n",
    "best_params = grid_search.best_params_\n",
    "best_score = grid_search.best_score_\n",
    "\n",
    "best_params, best_score"
   ]
  },
  {
   "cell_type": "code",
   "execution_count": 10,
   "metadata": {},
   "outputs": [
    {
     "name": "stdout",
     "output_type": "stream",
     "text": [
      "Optimiized Naive Bayes Model Accuracy on Test Set: 0.65995085995086\n",
      "\n",
      "Optimized Naive Bayes Model Classification Report:\n",
      "               precision    recall  f1-score   support\n",
      "\n",
      "           0       1.00      1.00      1.00        22\n",
      "           1       0.96      0.64      0.77       857\n",
      "           2       0.48      0.92      0.63       535\n",
      "           3       0.92      0.42      0.58       591\n",
      "           4       0.20      0.93      0.32        30\n",
      "\n",
      "    accuracy                           0.66      2035\n",
      "   macro avg       0.71      0.78      0.66      2035\n",
      "weighted avg       0.81      0.66      0.67      2035\n",
      "\n"
     ]
    }
   ],
   "source": [
    "# Re-train the model with the optimized parameter\n",
    "optim_gnb = GaussianNB(var_smoothing=best_params['var_smoothing'])\n",
    "optim_gnb.fit(X_train_scaled, y_train)\n",
    "\n",
    "ypred_optim_gnb = optim_gnb.predict(X_test_scaled)\n",
    "\n",
    "acc_optim_gnb = accuracy_score(y_test, ypred_optim_gnb)\n",
    "report_optimized_gnb = classification_report(y_test, ypred_optim_gnb)\n",
    "\n",
    "print(f\"Optimiized Naive Bayes Model Accuracy on Test Set: {acc_optim_gnb}\")\n",
    "print(f\"\\nOptimized Naive Bayes Model Classification Report:\\n {report_optimized_gnb}\")"
   ]
  },
  {
   "cell_type": "markdown",
   "metadata": {},
   "source": [
    "### Algorithm 3: Logistic Regression"
   ]
  },
  {
   "cell_type": "code",
   "execution_count": 11,
   "metadata": {},
   "outputs": [
    {
     "name": "stdout",
     "output_type": "stream",
     "text": [
      "Logistic Regression Model accuracy on test set: 0.8653562653562653\n",
      "\n",
      "Logistic Regression Model classification report:\n",
      "               precision    recall  f1-score   support\n",
      "\n",
      "           0       0.00      0.00      0.00        22\n",
      "           1       0.93      0.93      0.93       857\n",
      "           2       0.73      0.79      0.76       535\n",
      "           3       0.90      0.87      0.88       591\n",
      "           4       0.96      0.80      0.87        30\n",
      "\n",
      "    accuracy                           0.87      2035\n",
      "   macro avg       0.70      0.68      0.69      2035\n",
      "weighted avg       0.86      0.87      0.86      2035\n",
      "\n"
     ]
    }
   ],
   "source": [
    "logreg = LogisticRegression(max_iter=100)\n",
    "logreg.fit(X_train_scaled, y_train)\n",
    "ypred_logreg = logreg.predict(X_test_scaled)\n",
    "acc_logreg = accuracy_score(y_test, ypred_logreg)\n",
    "report_logreg = classification_report(y_test, ypred_logreg,zero_division=0)\n",
    "\n",
    "print(f\"Logistic Regression Model accuracy on test set: {acc_logreg}\")\n",
    "print(f\"\\nLogistic Regression Model classification report:\\n {report_logreg}\")"
   ]
  },
  {
   "cell_type": "markdown",
   "metadata": {},
   "source": [
    "#### Train/Tune model"
   ]
  },
  {
   "cell_type": "code",
   "execution_count": 12,
   "metadata": {},
   "outputs": [
    {
     "name": "stdout",
     "output_type": "stream",
     "text": [
      "Fitting 3 folds for each of 40 candidates, totalling 120 fits\n",
      "Best adjusted params for logistic regression : {'C': 112.88378916846884, 'penalty': 'l2', 'solver': 'lbfgs'}\n",
      "Best score for the tuned hyperparameters : 0.8617256637168141\n"
     ]
    }
   ],
   "source": [
    "# Adjust the hyperparameter grid and cross-validation strategy\n",
    "param_grid_adjusted = {\n",
    "    'C': np.logspace(-3, 3, 20),\n",
    "    'penalty': [\"l2\"],\n",
    "    'solver': [\"lbfgs\", \"saga\"]\n",
    "}\n",
    "\n",
    "gridsrch_lr_adj = GridSearchCV(LogisticRegression(max_iter=1000), param_grid_adjusted, cv=3, scoring='accuracy', verbose=1)\n",
    "gridsrch_lr_adj.fit(X_train_scaled, y_train)\n",
    "\n",
    "# Get the best parameters and the best score\n",
    "lr_bestparams = gridsrch_lr_adj.best_params_\n",
    "lr_tuned_score = gridsrch_lr_adj.best_score_\n",
    "\n",
    "print(f\"Best adjusted params for logistic regression : {lr_bestparams}\")\n",
    "print(f\"Best score for the tuned hyperparameters : {lr_tuned_score}\")\n"
   ]
  },
  {
   "cell_type": "code",
   "execution_count": 13,
   "metadata": {},
   "outputs": [
    {
     "name": "stdout",
     "output_type": "stream",
     "text": [
      "Optimized Logistic Regression model accuracy on test set : 0.8658476658476658\n",
      "\n",
      "Optimized Logistic Regression Model classification report :\n",
      "               precision    recall  f1-score   support\n",
      "\n",
      "           0       0.00      0.00      0.00        22\n",
      "           1       0.94      0.93      0.94       857\n",
      "           2       0.73      0.80      0.76       535\n",
      "           3       0.90      0.86      0.88       591\n",
      "           4       0.89      0.83      0.86        30\n",
      "\n",
      "    accuracy                           0.87      2035\n",
      "   macro avg       0.69      0.69      0.69      2035\n",
      "weighted avg       0.86      0.87      0.86      2035\n",
      "\n"
     ]
    }
   ],
   "source": [
    "# Retrain the model with the optimized hyperparameters\n",
    "optim_logreg = LogisticRegression(max_iter=1000, C=lr_bestparams['C'], penalty='l2', solver='lbfgs')\n",
    "optim_logreg.fit(X_train_scaled, y_train)\n",
    "\n",
    "ypred_optim_logreg = optim_logreg.predict(X_test_scaled)\n",
    "\n",
    "acc_optim_logreg = accuracy_score(y_test, ypred_optim_logreg)\n",
    "rport_optim_logreg = classification_report(y_test, ypred_optim_logreg, zero_division=0)\n",
    "\n",
    "print(f\"Optimized Logistic Regression model accuracy on test set : {acc_optim_logreg}\")\n",
    "print(f\"\\nOptimized Logistic Regression Model classification report :\\n {rport_optim_logreg}\")\n"
   ]
  },
  {
   "cell_type": "markdown",
   "metadata": {},
   "source": [
    "### Algorithm 4: SVM(Support vector machines)"
   ]
  },
  {
   "cell_type": "code",
   "execution_count": 14,
   "metadata": {},
   "outputs": [
    {
     "name": "stdout",
     "output_type": "stream",
     "text": [
      "SVM model with linear kernel accuracy on test set : 0.88992628992629\n",
      "\n",
      "SVM model with linear kernel classification report:\n",
      "               precision    recall  f1-score   support\n",
      "\n",
      "           0       0.00      0.00      0.00        22\n",
      "           1       0.97      0.93      0.95       857\n",
      "           2       0.77      0.84      0.80       535\n",
      "           3       0.90      0.91      0.90       591\n",
      "           4       0.93      0.93      0.93        30\n",
      "\n",
      "    accuracy                           0.89      2035\n",
      "   macro avg       0.71      0.72      0.72      2035\n",
      "weighted avg       0.88      0.89      0.89      2035\n",
      "\n"
     ]
    }
   ],
   "source": [
    "linear_svm = SVC(kernel='linear', C=1)\n",
    "linear_svm.fit(X_train_scaled, y_train)\n",
    "\n",
    "ypred_svm = linear_svm.predict(X_test_scaled)\n",
    "linsvm_acc = accuracy_score(y_test, ypred_svm)\n",
    "report_svm = classification_report(y_test, ypred_svm, zero_division=0)\n",
    "\n",
    "print(f\"SVM model with linear kernel accuracy on test set : {linsvm_acc}\")\n",
    "print(f\"\\nSVM model with linear kernel classification report:\\n {report_svm}\")"
   ]
  },
  {
   "cell_type": "markdown",
   "metadata": {},
   "source": [
    "#### Train/Tune model"
   ]
  },
  {
   "cell_type": "code",
   "execution_count": 15,
   "metadata": {},
   "outputs": [
    {
     "name": "stdout",
     "output_type": "stream",
     "text": [
      "Fitting 3 folds for each of 10 candidates, totalling 30 fits\n",
      "Best parameters for SVM model : {'C': 5.03065037324288, 'kernel': 'linear'}\n",
      "best score achieved with tuned SVM model : 0.8812684365781712\n"
     ]
    }
   ],
   "source": [
    "# Adjust the parameter exploration to a smaller set using continuous range for C\n",
    "param_dist_svm_linear = {\n",
    "    'C': loguniform(1e-1, 1e2),\n",
    "    'kernel': ['linear', 'rbf']\n",
    "}\n",
    "\n",
    "rand_search_svm = RandomizedSearchCV(SVC(), param_distributions=param_dist_svm_linear, n_iter=10, cv=3, scoring='accuracy', verbose=1, random_state=73939133)\n",
    "rand_search_svm.fit(X_train_scaled, y_train)\n",
    "\n",
    "best_params_svm = rand_search_svm.best_params_\n",
    "best_score_svm = rand_search_svm.best_score_\n",
    "\n",
    "print(f\"Best parameters for SVM model : {best_params_svm}\")\n",
    "print(f\"best score achieved with tuned SVM model : {best_score_svm}\")\n"
   ]
  },
  {
   "cell_type": "code",
   "execution_count": 16,
   "metadata": {},
   "outputs": [
    {
     "name": "stdout",
     "output_type": "stream",
     "text": [
      "Optimized SVM model accuracy on test data : 0.8864864864864865\n",
      "\n",
      "Optimized SVM model classification report:\n",
      "               precision    recall  f1-score   support\n",
      "\n",
      "           0       0.00      0.00      0.00        22\n",
      "           1       0.96      0.93      0.95       857\n",
      "           2       0.77      0.83      0.80       535\n",
      "           3       0.89      0.91      0.90       591\n",
      "           4       0.89      0.83      0.86        30\n",
      "\n",
      "    accuracy                           0.89      2035\n",
      "   macro avg       0.70      0.70      0.70      2035\n",
      "weighted avg       0.88      0.89      0.88      2035\n",
      "\n"
     ]
    }
   ],
   "source": [
    "# Load the SVM model with the best kernel and best C param\n",
    "optimized_svm = SVC(kernel=best_params_svm['kernel'] , C=best_params_svm['C'])\n",
    "\n",
    "optimized_svm.fit(X_train_scaled, y_train)\n",
    "y_pred_optimized_svm = optimized_svm.predict(X_test_scaled)\n",
    "\n",
    "optim_svm_acc = accuracy_score(y_test, y_pred_optimized_svm)\n",
    "best_svmmodel_report = classification_report(y_test, y_pred_optimized_svm, zero_division=0)\n",
    "\n",
    "print(f\"Optimized SVM model accuracy on test data : {optim_svm_acc}\")\n",
    "print(f\"\\nOptimized SVM model classification report:\\n {best_svmmodel_report}\")\n"
   ]
  },
  {
   "cell_type": "markdown",
   "metadata": {},
   "source": [
    "### Algorithm 5: Decison Tree"
   ]
  },
  {
   "cell_type": "code",
   "execution_count": 17,
   "metadata": {},
   "outputs": [
    {
     "name": "stdout",
     "output_type": "stream",
     "text": [
      "Decision Tree model accuracy on test data : 0.8977886977886977\n",
      "\n",
      "Decision Tree Model Classification Report:\n",
      "               precision    recall  f1-score   support\n",
      "\n",
      "           0       1.00      1.00      1.00        22\n",
      "           1       0.93      0.95      0.94       857\n",
      "           2       0.82      0.81      0.81       535\n",
      "           3       0.92      0.90      0.91       591\n",
      "           4       0.87      0.90      0.89        30\n",
      "\n",
      "    accuracy                           0.90      2035\n",
      "   macro avg       0.91      0.91      0.91      2035\n",
      "weighted avg       0.90      0.90      0.90      2035\n",
      "\n"
     ]
    }
   ],
   "source": [
    "dcsn_tree_tune = DecisionTreeClassifier(random_state=73939133)\n",
    "\n",
    "dcsn_tree_tune.fit(X_train_scaled, y_train)\n",
    "ypred_dcsn_tree = dcsn_tree_tune.predict(X_test_scaled)\n",
    "dcsn_tree_acc = accuracy_score(y_test, ypred_dcsn_tree)\n",
    "dcsn_tree_report = classification_report(y_test, ypred_dcsn_tree, zero_division=0)\n",
    "\n",
    "print(f\"Decision Tree model accuracy on test data : {dcsn_tree_acc}\")\n",
    "print(f\"\\nDecision Tree Model Classification Report:\\n {dcsn_tree_report}\")"
   ]
  },
  {
   "cell_type": "markdown",
   "metadata": {},
   "source": [
    "#### Train/Tune model"
   ]
  },
  {
   "cell_type": "code",
   "execution_count": 18,
   "metadata": {},
   "outputs": [
    {
     "name": "stdout",
     "output_type": "stream",
     "text": [
      "Fitting 3 folds for each of 54 candidates, totalling 162 fits\n",
      "Best parameters for decision tree model tuning : {'max_depth': 10, 'min_samples_leaf': 1, 'min_samples_split': 2}\n",
      "Best accuracy achieved for the tuned decision tree model : 0.9138397246804327\n"
     ]
    }
   ],
   "source": [
    "# Define the parameter grid\n",
    "paramgrid_dcsn_tree = {\n",
    "    'max_depth': [None, 10, 20, 30, 40, 50],\n",
    "    'min_samples_split': [2, 5, 10],\n",
    "    'min_samples_leaf': [1, 2, 4]\n",
    "}\n",
    "\n",
    "dcsn_tree_tune = DecisionTreeClassifier(random_state=73939133)\n",
    "gridsrch_dcsn_tree = GridSearchCV(dcsn_tree_tune, paramgrid_dcsn_tree, cv=3, scoring='accuracy', verbose=1)\n",
    "gridsrch_dcsn_tree.fit(X_train_scaled, y_train)\n",
    "\n",
    "best_params_decision_tree = gridsrch_dcsn_tree.best_params_\n",
    "best_score_decision_tree = gridsrch_dcsn_tree.best_score_\n",
    "\n",
    "print(f\"Best parameters for decision tree model tuning : {best_params_decision_tree}\")\n",
    "print(f\"Best accuracy achieved for the tuned decision tree model : {best_score_decision_tree}\")"
   ]
  },
  {
   "cell_type": "code",
   "execution_count": 19,
   "metadata": {},
   "outputs": [
    {
     "name": "stdout",
     "output_type": "stream",
     "text": [
      "Optimized decision tree model accuracy on test data : 0.9233415233415233\n",
      "\n",
      "Optimized Decision Tree Model Classification Report:\n",
      "               precision    recall  f1-score   support\n",
      "\n",
      "           0       1.00      1.00      1.00        22\n",
      "           1       0.97      0.94      0.95       857\n",
      "           2       0.87      0.84      0.86       535\n",
      "           3       0.90      0.98      0.94       591\n",
      "           4       0.87      0.90      0.89        30\n",
      "\n",
      "    accuracy                           0.92      2035\n",
      "   macro avg       0.92      0.93      0.93      2035\n",
      "weighted avg       0.92      0.92      0.92      2035\n",
      "\n"
     ]
    }
   ],
   "source": [
    "# Initialize the Decision Tree classifier with the best parameters\n",
    "optim_decision_tree = DecisionTreeClassifier(\n",
    "    random_state=73939133,\n",
    "    max_depth=best_params_decision_tree['max_depth'],\n",
    "    min_samples_split=best_params_decision_tree['min_samples_split'],\n",
    "    min_samples_leaf=best_params_decision_tree['min_samples_leaf']\n",
    ")\n",
    "\n",
    "optim_decision_tree.fit(X_train_scaled, y_train)\n",
    "ypred_optim_dcsn_tree = optim_decision_tree.predict(X_test_scaled)\n",
    "acc_optim_dcsn_tree = accuracy_score(y_test, ypred_optim_dcsn_tree)\n",
    "rep_optim_dcsn_tree = classification_report(y_test, ypred_optim_dcsn_tree, zero_division=0)\n",
    "\n",
    "print(f\"Optimized decision tree model accuracy on test data : {acc_optim_dcsn_tree}\")\n",
    "print(f\"\\nOptimized Decision Tree Model Classification Report:\\n {rep_optim_dcsn_tree}\")"
   ]
  },
  {
   "cell_type": "markdown",
   "metadata": {},
   "source": [
    "### Algorithm 6: Gradient Boosting"
   ]
  },
  {
   "cell_type": "code",
   "execution_count": 20,
   "metadata": {},
   "outputs": [
    {
     "name": "stdout",
     "output_type": "stream",
     "text": [
      "Gradient boosting machine model accuracy on test dataset : 0.9385749385749386\n",
      "\n",
      "Gradient Boosting Machine Model Classification Report:\n",
      "               precision    recall  f1-score   support\n",
      "\n",
      "           0       1.00      1.00      1.00        22\n",
      "           1       1.00      0.93      0.96       857\n",
      "           2       0.89      0.89      0.89       535\n",
      "           3       0.91      0.99      0.95       591\n",
      "           4       0.88      0.93      0.90        30\n",
      "\n",
      "    accuracy                           0.94      2035\n",
      "   macro avg       0.93      0.95      0.94      2035\n",
      "weighted avg       0.94      0.94      0.94      2035\n",
      "\n"
     ]
    }
   ],
   "source": [
    "gbm = GradientBoostingClassifier(n_estimators=100, learning_rate=0.1, max_depth=3, random_state=73939133)\n",
    "gbm.fit(X_train_scaled, y_train)\n",
    "y_pred_gbm = gbm.predict(X_test_scaled)\n",
    "\n",
    "accuracy_gbm = accuracy_score(y_test, y_pred_gbm)\n",
    "report_gbm = classification_report(y_test, y_pred_gbm, zero_division=0)\n",
    "\n",
    "print(f\"Gradient boosting machine model accuracy on test dataset : {accuracy_gbm}\")\n",
    "print(f\"\\nGradient Boosting Machine Model Classification Report:\\n {report_gbm}\")"
   ]
  },
  {
   "cell_type": "markdown",
   "metadata": {},
   "source": [
    "#### Train/Tune model"
   ]
  },
  {
   "cell_type": "code",
   "execution_count": 21,
   "metadata": {},
   "outputs": [
    {
     "name": "stdout",
     "output_type": "stream",
     "text": [
      "Fitting 3 folds for each of 10 candidates, totalling 30 fits\n",
      "Best parameters for gradient boosted model : {'learning_rate': 0.051120290490909465, 'max_depth': 3, 'n_estimators': 59}\n",
      "Best accuracy achieved for gradient boosted model : 0.9268682399213373\n"
     ]
    }
   ],
   "source": [
    "# Define the parameter distribution\n",
    "param_dist_gbm = {\n",
    "    'n_estimators': sp_randint(50, 150),\n",
    "    'learning_rate': uniform(0.01, 0.2),\n",
    "    'max_depth': sp_randint(3, 6)\n",
    "}\n",
    "\n",
    "gbm = GradientBoostingClassifier(random_state=73939133)\n",
    "random_search_gbm = RandomizedSearchCV(gbm, param_distributions=param_dist_gbm, n_iter=10, cv=3, scoring='accuracy', verbose=1, random_state=73939133)\n",
    "random_search_gbm.fit(X_train_scaled, y_train)\n",
    "\n",
    "best_params_gbm = random_search_gbm.best_params_\n",
    "best_score_gbm = random_search_gbm.best_score_\n",
    "\n",
    "print(f\"Best parameters for gradient boosted model : {best_params_gbm}\")\n",
    "print(f\"Best accuracy achieved for gradient boosted model : {best_score_gbm}\")\n"
   ]
  },
  {
   "cell_type": "code",
   "execution_count": 22,
   "metadata": {},
   "outputs": [
    {
     "name": "stdout",
     "output_type": "stream",
     "text": [
      "Optimized GBM model accuracy on test dataset: 0.9356265356265356\n",
      "\n",
      "Optimized GBM model classification report:\n",
      "               precision    recall  f1-score   support\n",
      "\n",
      "           0       1.00      1.00      1.00        22\n",
      "           1       1.00      0.93      0.96       857\n",
      "           2       0.89      0.88      0.88       535\n",
      "           3       0.90      0.99      0.94       591\n",
      "           4       0.81      0.97      0.88        30\n",
      "\n",
      "    accuracy                           0.94      2035\n",
      "   macro avg       0.92      0.95      0.93      2035\n",
      "weighted avg       0.94      0.94      0.94      2035\n",
      "\n"
     ]
    }
   ],
   "source": [
    "# Initialize the GBM model with the optimized parameters\n",
    "optim_gbm = GradientBoostingClassifier(\n",
    "    n_estimators=best_params_gbm['n_estimators'],\n",
    "    learning_rate=best_params_gbm['learning_rate'],\n",
    "    max_depth=best_params_gbm['max_depth'],\n",
    "    random_state=73939133\n",
    ")\n",
    "\n",
    "optim_gbm.fit(X_train_scaled, y_train)\n",
    "ypred_optim_gbm = optim_gbm.predict(X_test_scaled)\n",
    "\n",
    "gbm_optim_acc = accuracy_score(y_test, ypred_optim_gbm)\n",
    "gbm_optim_report = classification_report(y_test, ypred_optim_gbm, zero_division=0)\n",
    "\n",
    "print(f\"Optimized GBM model accuracy on test dataset: {gbm_optim_acc}\")\n",
    "print(f\"\\nOptimized GBM model classification report:\\n {gbm_optim_report}\")"
   ]
  },
  {
   "cell_type": "markdown",
   "metadata": {},
   "source": [
    "## Model comparison"
   ]
  },
  {
   "cell_type": "code",
   "execution_count": 1,
   "metadata": {},
   "outputs": [],
   "source": [
    "import matplotlib.pylab as plt\n",
    "\n",
    "base_dict = {\n",
    "    \"knn\" : 0.6113022113022113,\n",
    "    \"naive_bayes\" : 0.30073710073710075,\n",
    "    \"logistic_regression\" : 0.8653562653562653,\n",
    "    \"svm\" : 0.88992628992629,\n",
    "    \"decision_tree\" : 0.8977886977886977,\n",
    "    \"gradient_boosting\" : 0.9385749385749386,\n",
    "}\n",
    "\n",
    "hypertuned_dict = {\n",
    "    \"knn\" : 0.6186732186732187,\n",
    "    \"naive_bayes\" : 0.65995085995086,\n",
    "    \"logistic_regression\" : 0.8658476658476658,\n",
    "    \"svm\" : 0.8864864864864865,\n",
    "    \"decision_tree\" : 0.9233415233415233,\n",
    "    \"gradient_boosting\" : 0.9356265356265356,\n",
    "}\n",
    "\n"
   ]
  },
  {
   "cell_type": "code",
   "execution_count": 10,
   "metadata": {},
   "outputs": [
    {
     "data": {
      "image/png": "[encoded data removed]",
      "text/plain": [
       "<Figure size 1500x900 with 1 Axes>"
      ]
     },
     "metadata": {},
     "output_type": "display_data"
    }
   ],
   "source": [
    "plt.figure(figsize=(15, 9))\n",
    "plt.bar(range(len(base_dict)), [100*i for i in base_dict.values()], tick_label=list(base_dict.keys()))\n",
    "plt.savefig('../img/base_comp.png', dpi=240)\n",
    "plt.xlabel('Models')\n",
    "plt.ylabel('Accuracy')\n",
    "plt.title('Base model comparison')\n",
    "plt.show()"
   ]
  },
  {
   "cell_type": "code",
   "execution_count": 11,
   "metadata": {},
   "outputs": [
    {
     "data": {
      "image/png": "[encoded data removed]",
      "text/plain": [
       "<Figure size 1500x900 with 1 Axes>"
      ]
     },
     "metadata": {},
     "output_type": "display_data"
    }
   ],
   "source": [
    "plt.figure(figsize=(15, 9))\n",
    "plt.bar(range(len(hypertuned_dict)), [100*i for i in hypertuned_dict.values()], tick_label=list(hypertuned_dict.keys()))\n",
    "plt.savefig('../img/tuned_comp.png', dpi=240)\n",
    "plt.xlabel('Models')\n",
    "plt.ylabel('Accuracy')\n",
    "plt.title('Hypertuned model comparison')\n",
    "plt.show()"
   ]
  },
  {
   "cell_type": "code",
   "execution_count": 12,
   "metadata": {},
   "outputs": [
    {
     "data": {
      "image/png": "[encoded data removed]",
      "text/plain": [
       "<Figure size 1000x600 with 1 Axes>"
      ]
     },
     "metadata": {},
     "output_type": "display_data"
    }
   ],
   "source": [
    "models = list(base_dict.keys())\n",
    "base_acc = list(base_dict.values())\n",
    "htuned_acc = list(hypertuned_dict.values())\n",
    "\n",
    "x = range(len(models))\n",
    "width = 0.35\n",
    "\n",
    "fig, ax = plt.subplots(figsize=(10, 6))\n",
    "\n",
    "base_bars = ax.bar([i - width/2 for i in x], base_acc, width, label='Base Models')\n",
    "htuned_bars = ax.bar([i + width/2 for i in x], htuned_acc, width, label='HyperTuned Models')\n",
    "\n",
    "ax.set_ylabel('Accuracy')\n",
    "ax.set_title('Comparison of Base and Hypertuned Models')\n",
    "ax.set_xticks(x)\n",
    "ax.set_xticklabels(models, rotation=45, ha='right')\n",
    "ax.legend()\n",
    "plt.tight_layout()\n",
    "plt.savefig('../img/baseVtuned.png', dpi=240)\n",
    "plt.show()"
   ]
  },
  {
   "cell_type": "code",
   "execution_count": null,
   "metadata": {},
   "outputs": [],
   "source": []
  }
 ],
 "metadata": {
  "kernelspec": {
   "display_name": "Python 3",
   "language": "python",
   "name": "python3"
  },
  "language_info": {
   "codemirror_mode": {
    "name": "ipython",
    "version": 3
   },
   "file_extension": ".py",
   "mimetype": "text/x-python",
   "name": "python",
   "nbconvert_exporter": "python",
   "pygments_lexer": "ipython3",
   "version": "3.11.7"
  }
 },
 "nbformat": 4,
 "nbformat_minor": 2
}
